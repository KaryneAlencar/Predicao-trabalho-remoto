{
 "cells": [
  {
   "cell_type": "code",
   "execution_count": 40,
   "id": "0c3e848f-d50c-4050-b066-b1fb852d4cbb",
   "metadata": {},
   "outputs": [],
   "source": [
    "%matplotlib inline\n",
    "import pandas as pd\n",
    "import numpy as np\n",
    "from scipy import stats\n",
    "import matplotlib.pyplot as plt\n",
    "import seaborn as sns\n",
    "import statsmodels.api as sm"
   ]
  },
  {
   "cell_type": "code",
   "execution_count": 41,
   "id": "40f7268e-cb70-4d2a-b09c-7da8feb8f9cc",
   "metadata": {},
   "outputs": [
    {
     "data": {
      "text/html": [
       "<div>\n",
       "<style scoped>\n",
       "    .dataframe tbody tr th:only-of-type {\n",
       "        vertical-align: middle;\n",
       "    }\n",
       "\n",
       "    .dataframe tbody tr th {\n",
       "        vertical-align: top;\n",
       "    }\n",
       "\n",
       "    .dataframe thead th {\n",
       "        text-align: right;\n",
       "    }\n",
       "</style>\n",
       "<table border=\"1\" class=\"dataframe\">\n",
       "  <thead>\n",
       "    <tr style=\"text-align: right;\">\n",
       "      <th></th>\n",
       "      <th>Ano</th>\n",
       "      <th>Trimestre</th>\n",
       "      <th>Estado</th>\n",
       "      <th>Tipo de área</th>\n",
       "      <th>Idade</th>\n",
       "      <th>Acesso à Internet</th>\n",
       "      <th>Tipo de dispositivo</th>\n",
       "      <th>Ocupação/Cargo</th>\n",
       "      <th>Ocupação/Cargo alternativo</th>\n",
       "      <th>Condição de ocupação</th>\n",
       "      <th>Posição no trabalho principal</th>\n",
       "      <th>Posição no trabalho principal alternativa</th>\n",
       "      <th>Categoria do emprego</th>\n",
       "      <th>Rendimento</th>\n",
       "    </tr>\n",
       "  </thead>\n",
       "  <tbody>\n",
       "    <tr>\n",
       "      <th>0</th>\n",
       "      <td>2023</td>\n",
       "      <td>4</td>\n",
       "      <td>11</td>\n",
       "      <td>Urbana</td>\n",
       "      <td>31</td>\n",
       "      <td>1.0</td>\n",
       "      <td>2.0</td>\n",
       "      <td>9311.0</td>\n",
       "      <td>NaN</td>\n",
       "      <td>Ocupado</td>\n",
       "      <td>3.0</td>\n",
       "      <td>5.0</td>\n",
       "      <td>9.0</td>\n",
       "      <td>5000.0</td>\n",
       "    </tr>\n",
       "    <tr>\n",
       "      <th>1</th>\n",
       "      <td>2023</td>\n",
       "      <td>4</td>\n",
       "      <td>11</td>\n",
       "      <td>Urbana</td>\n",
       "      <td>30</td>\n",
       "      <td>1.0</td>\n",
       "      <td>2.0</td>\n",
       "      <td>NaN</td>\n",
       "      <td>NaN</td>\n",
       "      <td>NaN</td>\n",
       "      <td>NaN</td>\n",
       "      <td>NaN</td>\n",
       "      <td>NaN</td>\n",
       "      <td>NaN</td>\n",
       "    </tr>\n",
       "    <tr>\n",
       "      <th>2</th>\n",
       "      <td>2023</td>\n",
       "      <td>4</td>\n",
       "      <td>11</td>\n",
       "      <td>Urbana</td>\n",
       "      <td>50</td>\n",
       "      <td>1.0</td>\n",
       "      <td>2.0</td>\n",
       "      <td>3221.0</td>\n",
       "      <td>NaN</td>\n",
       "      <td>Ocupado</td>\n",
       "      <td>1.0</td>\n",
       "      <td>3.0</td>\n",
       "      <td>7.0</td>\n",
       "      <td>3500.0</td>\n",
       "    </tr>\n",
       "    <tr>\n",
       "      <th>3</th>\n",
       "      <td>2023</td>\n",
       "      <td>4</td>\n",
       "      <td>11</td>\n",
       "      <td>Urbana</td>\n",
       "      <td>25</td>\n",
       "      <td>1.0</td>\n",
       "      <td>2.0</td>\n",
       "      <td>NaN</td>\n",
       "      <td>NaN</td>\n",
       "      <td>NaN</td>\n",
       "      <td>NaN</td>\n",
       "      <td>NaN</td>\n",
       "      <td>NaN</td>\n",
       "      <td>NaN</td>\n",
       "    </tr>\n",
       "    <tr>\n",
       "      <th>4</th>\n",
       "      <td>2023</td>\n",
       "      <td>4</td>\n",
       "      <td>11</td>\n",
       "      <td>Urbana</td>\n",
       "      <td>3</td>\n",
       "      <td>NaN</td>\n",
       "      <td>NaN</td>\n",
       "      <td>NaN</td>\n",
       "      <td>NaN</td>\n",
       "      <td>NaN</td>\n",
       "      <td>NaN</td>\n",
       "      <td>NaN</td>\n",
       "      <td>NaN</td>\n",
       "      <td>NaN</td>\n",
       "    </tr>\n",
       "    <tr>\n",
       "      <th>...</th>\n",
       "      <td>...</td>\n",
       "      <td>...</td>\n",
       "      <td>...</td>\n",
       "      <td>...</td>\n",
       "      <td>...</td>\n",
       "      <td>...</td>\n",
       "      <td>...</td>\n",
       "      <td>...</td>\n",
       "      <td>...</td>\n",
       "      <td>...</td>\n",
       "      <td>...</td>\n",
       "      <td>...</td>\n",
       "      <td>...</td>\n",
       "      <td>...</td>\n",
       "    </tr>\n",
       "    <tr>\n",
       "      <th>473201</th>\n",
       "      <td>2023</td>\n",
       "      <td>4</td>\n",
       "      <td>53</td>\n",
       "      <td>Urbana</td>\n",
       "      <td>28</td>\n",
       "      <td>1.0</td>\n",
       "      <td>2.0</td>\n",
       "      <td>NaN</td>\n",
       "      <td>NaN</td>\n",
       "      <td>NaN</td>\n",
       "      <td>NaN</td>\n",
       "      <td>NaN</td>\n",
       "      <td>NaN</td>\n",
       "      <td>NaN</td>\n",
       "    </tr>\n",
       "    <tr>\n",
       "      <th>473202</th>\n",
       "      <td>2023</td>\n",
       "      <td>4</td>\n",
       "      <td>53</td>\n",
       "      <td>Urbana</td>\n",
       "      <td>24</td>\n",
       "      <td>1.0</td>\n",
       "      <td>2.0</td>\n",
       "      <td>2211.0</td>\n",
       "      <td>NaN</td>\n",
       "      <td>Ocupado</td>\n",
       "      <td>1.0</td>\n",
       "      <td>1.0</td>\n",
       "      <td>2.0</td>\n",
       "      <td>5000.0</td>\n",
       "    </tr>\n",
       "    <tr>\n",
       "      <th>473203</th>\n",
       "      <td>2023</td>\n",
       "      <td>4</td>\n",
       "      <td>53</td>\n",
       "      <td>Urbana</td>\n",
       "      <td>51</td>\n",
       "      <td>1.0</td>\n",
       "      <td>2.0</td>\n",
       "      <td>5221.0</td>\n",
       "      <td>NaN</td>\n",
       "      <td>Ocupado</td>\n",
       "      <td>3.0</td>\n",
       "      <td>5.0</td>\n",
       "      <td>9.0</td>\n",
       "      <td>5000.0</td>\n",
       "    </tr>\n",
       "    <tr>\n",
       "      <th>473204</th>\n",
       "      <td>2023</td>\n",
       "      <td>4</td>\n",
       "      <td>53</td>\n",
       "      <td>Urbana</td>\n",
       "      <td>56</td>\n",
       "      <td>1.0</td>\n",
       "      <td>2.0</td>\n",
       "      <td>2341.0</td>\n",
       "      <td>NaN</td>\n",
       "      <td>Ocupado</td>\n",
       "      <td>1.0</td>\n",
       "      <td>3.0</td>\n",
       "      <td>6.0</td>\n",
       "      <td>3500.0</td>\n",
       "    </tr>\n",
       "    <tr>\n",
       "      <th>473205</th>\n",
       "      <td>2023</td>\n",
       "      <td>4</td>\n",
       "      <td>53</td>\n",
       "      <td>Urbana</td>\n",
       "      <td>19</td>\n",
       "      <td>1.0</td>\n",
       "      <td>1.0</td>\n",
       "      <td>NaN</td>\n",
       "      <td>NaN</td>\n",
       "      <td>NaN</td>\n",
       "      <td>NaN</td>\n",
       "      <td>NaN</td>\n",
       "      <td>NaN</td>\n",
       "      <td>NaN</td>\n",
       "    </tr>\n",
       "  </tbody>\n",
       "</table>\n",
       "<p>473206 rows × 14 columns</p>\n",
       "</div>"
      ],
      "text/plain": [
       "         Ano  Trimestre  Estado Tipo de área  Idade  Acesso à Internet  \\\n",
       "0       2023          4      11       Urbana     31                1.0   \n",
       "1       2023          4      11       Urbana     30                1.0   \n",
       "2       2023          4      11       Urbana     50                1.0   \n",
       "3       2023          4      11       Urbana     25                1.0   \n",
       "4       2023          4      11       Urbana      3                NaN   \n",
       "...      ...        ...     ...          ...    ...                ...   \n",
       "473201  2023          4      53       Urbana     28                1.0   \n",
       "473202  2023          4      53       Urbana     24                1.0   \n",
       "473203  2023          4      53       Urbana     51                1.0   \n",
       "473204  2023          4      53       Urbana     56                1.0   \n",
       "473205  2023          4      53       Urbana     19                1.0   \n",
       "\n",
       "        Tipo de dispositivo  Ocupação/Cargo  Ocupação/Cargo alternativo  \\\n",
       "0                       2.0          9311.0                         NaN   \n",
       "1                       2.0             NaN                         NaN   \n",
       "2                       2.0          3221.0                         NaN   \n",
       "3                       2.0             NaN                         NaN   \n",
       "4                       NaN             NaN                         NaN   \n",
       "...                     ...             ...                         ...   \n",
       "473201                  2.0             NaN                         NaN   \n",
       "473202                  2.0          2211.0                         NaN   \n",
       "473203                  2.0          5221.0                         NaN   \n",
       "473204                  2.0          2341.0                         NaN   \n",
       "473205                  1.0             NaN                         NaN   \n",
       "\n",
       "       Condição de ocupação  Posição no trabalho principal  \\\n",
       "0                   Ocupado                            3.0   \n",
       "1                       NaN                            NaN   \n",
       "2                   Ocupado                            1.0   \n",
       "3                       NaN                            NaN   \n",
       "4                       NaN                            NaN   \n",
       "...                     ...                            ...   \n",
       "473201                  NaN                            NaN   \n",
       "473202              Ocupado                            1.0   \n",
       "473203              Ocupado                            3.0   \n",
       "473204              Ocupado                            1.0   \n",
       "473205                  NaN                            NaN   \n",
       "\n",
       "        Posição no trabalho principal alternativa  Categoria do emprego  \\\n",
       "0                                             5.0                   9.0   \n",
       "1                                             NaN                   NaN   \n",
       "2                                             3.0                   7.0   \n",
       "3                                             NaN                   NaN   \n",
       "4                                             NaN                   NaN   \n",
       "...                                           ...                   ...   \n",
       "473201                                        NaN                   NaN   \n",
       "473202                                        1.0                   2.0   \n",
       "473203                                        5.0                   9.0   \n",
       "473204                                        3.0                   6.0   \n",
       "473205                                        NaN                   NaN   \n",
       "\n",
       "        Rendimento  \n",
       "0           5000.0  \n",
       "1              NaN  \n",
       "2           3500.0  \n",
       "3              NaN  \n",
       "4              NaN  \n",
       "...            ...  \n",
       "473201         NaN  \n",
       "473202      5000.0  \n",
       "473203      5000.0  \n",
       "473204      3500.0  \n",
       "473205         NaN  \n",
       "\n",
       "[473206 rows x 14 columns]"
      ]
     },
     "execution_count": 41,
     "metadata": {},
     "output_type": "execute_result"
    }
   ],
   "source": [
    "df_projeto3 = pd.read_excel('df_projeto3.xlsx')\n",
    "df_projeto3"
   ]
  },
  {
   "cell_type": "code",
   "execution_count": 42,
   "id": "4928070d-cde4-4211-99b8-cf929b5ac61a",
   "metadata": {},
   "outputs": [
    {
     "name": "stdout",
     "output_type": "stream",
     "text": [
      "Ano                                               0\n",
      "Trimestre                                         0\n",
      "Estado                                            0\n",
      "Tipo de área                                      0\n",
      "Idade                                             0\n",
      "Acesso à Internet                             27055\n",
      "Tipo de dispositivo                           27055\n",
      "Ocupação/Cargo                               267679\n",
      "Ocupação/Cargo alternativo                   466661\n",
      "Condição de ocupação                         252048\n",
      "Posição no trabalho principal                267679\n",
      "Posição no trabalho principal alternativa    267679\n",
      "Categoria do emprego                         267679\n",
      "Rendimento                                   272808\n",
      "dtype: int64\n"
     ]
    }
   ],
   "source": [
    "quantidade_nans = df_projeto3.isna().sum()\n",
    "print(quantidade_nans)"
   ]
  },
  {
   "cell_type": "markdown",
   "id": "9465e921-a494-41d5-9363-016b9915a8a3",
   "metadata": {},
   "source": [
    "## Verificando todos os valores atribuidos a uma coluna"
   ]
  },
  {
   "cell_type": "code",
   "execution_count": 44,
   "id": "7040ed4c-caa1-4bce-9be7-e2831559f38a",
   "metadata": {},
   "outputs": [
    {
     "data": {
      "text/plain": [
       "array([11, 12, 13, 14, 15, 16, 17, 21, 22, 23, 24, 25, 26, 27, 28, 29, 31,\n",
       "       32, 33, 35, 41, 42, 43, 50, 51, 52, 53], dtype=int64)"
      ]
     },
     "execution_count": 44,
     "metadata": {},
     "output_type": "execute_result"
    }
   ],
   "source": [
    "estado_unicas = df_projeto3['Estado'].unique()\n",
    "estado_unicas"
   ]
  },
  {
   "cell_type": "code",
   "execution_count": 45,
   "id": "7c0e7f22-2094-4da6-a0d6-d56ff36328cf",
   "metadata": {},
   "outputs": [
    {
     "data": {
      "text/plain": [
       "array(['Urbana', 'Rural'], dtype=object)"
      ]
     },
     "execution_count": 45,
     "metadata": {},
     "output_type": "execute_result"
    }
   ],
   "source": [
    "tipodearea_unicas = df_projeto3['Tipo de área'].unique()\n",
    "tipodearea_unicas"
   ]
  },
  {
   "cell_type": "code",
   "execution_count": 46,
   "id": "9e33be4f-f889-4935-8a8d-5a8ff6f6b045",
   "metadata": {},
   "outputs": [
    {
     "data": {
      "text/plain": [
       "array([ 1., nan,  2.])"
      ]
     },
     "execution_count": 46,
     "metadata": {},
     "output_type": "execute_result"
    }
   ],
   "source": [
    "acessointernet_unicas = df_projeto3['Acesso à Internet'].unique()\n",
    "acessointernet_unicas"
   ]
  },
  {
   "cell_type": "code",
   "execution_count": 47,
   "id": "3738b34e-2aea-45e6-ac79-349b34ad0f41",
   "metadata": {},
   "outputs": [
    {
     "data": {
      "text/plain": [
       "array([ 31,  30,  50,  25,   3,  35,  72,  55,  34,  36,   1,  33,  46,\n",
       "        59,  60,  58,  75,  38,  16,  15,  74,  62,  39,  32,   9,  28,\n",
       "        43,   8,  23,   7,  49,  20,  29,  61,  57,  53,  47,  42,   4,\n",
       "        73,  18,  12,  41,  17,   6,  63,  66,  27,  81,  69,   5,  13,\n",
       "        56,  24,  21,  54,  22,   0,  52,  19,  68,  11,  44,  67,  14,\n",
       "        26,  37,  87,  48,  64,  76,  10,  40,  71,  80,  45,  79,  51,\n",
       "        84,  65,   2,  82,  89,  83,  90,  77,  78,  70,  93,  98,  85,\n",
       "       100,  86,  88,  91,  96,  97,  92,  95,  94, 101,  99, 103, 104,\n",
       "       105, 102, 106, 110, 113, 108, 109, 107], dtype=int64)"
      ]
     },
     "execution_count": 47,
     "metadata": {},
     "output_type": "execute_result"
    }
   ],
   "source": [
    "idade_unicas = df_projeto3['Idade'].unique()\n",
    "idade_unicas"
   ]
  },
  {
   "cell_type": "code",
   "execution_count": 48,
   "id": "95b3e8d6-18a3-4466-8cf6-25fd0947a1ce",
   "metadata": {},
   "outputs": [
    {
     "data": {
      "text/plain": [
       "array([9311.,   nan, 3221., 2341., 5141., 7112., 4110., 9112., 8322.,\n",
       "       9111., 2151., 2631., 3313., 2611., 2310., 2413., 2152., 2261.,\n",
       "       5221., 8332., 5223., 5230., 1346., 7233., 9334., 5120., 7411.,\n",
       "       2619., 3411., 5312., 5311., 5153., 7512., 4321., 4120., 8350.,\n",
       "       3251., 7318., 5414., 7124., 3257., 3334., 1221., 5211., 2330.,\n",
       "       2354., 2359., 2642., 3142., 7113., 6111., 7231., 6121., 9213.,\n",
       "       3341., 9211., 3423., 9212., 5413., 9612., 9520., 7126., 7131.,\n",
       "       7212., 1420., 7536., 7214., 7422., 4212., 9313., 3213., 4229.,\n",
       "       7523., 2342., 4221.,  412., 5243., 6112., 7115., 4311., 3113.,\n",
       "       3253., 8331., 1411., 3119., 9629., 1345., 7132., 5163., 2636.,\n",
       "       2221., 4312., 7522., 4226., 2652., 2411., 5164., 2351., 7531.,\n",
       "       7511., 7125., 1111., 9122., 2423., 7213., 5142., 3342.,  411.,\n",
       "       9333., 3123., 9412., 6123., 5222., 5249., 5131., 5322., 9329.,\n",
       "       5412., 6122., 5212., 3212., 2511., 2320., 9411., 3114., 2211.,\n",
       "       3343., 1349., 5246., 1330., 5245., 7413., 8219., 4412., 2250.,\n",
       "       9611., 7123., 3432., 3256., 8342., 4227., 3521., 7534., 3522.,\n",
       "       8343., 1321., 1342., 3112., 7412., 2421., 1112., 8341., 8113.,\n",
       "       9321., 3513., 3122., 3355., 5165., 6114., 3255., 2166., 8321.,\n",
       "       2269., 7122., 7319., 3121., 6210., 2132., 7513., 6225., 3339.,\n",
       "       8172., 8141., 1211., 1219., 2634., 2142., 2353., 7543., 7119.,\n",
       "       3115., 8212., 5329.,  210., 9214., 2264., 3431., 7421., 7314.,\n",
       "       3354., 2262., 1412.,  512., 2622., 7317., 7223., 7313., 3422.,\n",
       "       9621., 3214., 9215., 2266., 5112., 2654., 2431., 2161., 7533.,\n",
       "       3332., 8189., 2212., 3311., 1311., 6221., 2512., 8182., 2131.,\n",
       "       3434., 1324., 3323., 8153., 3322., 9510., 8160., 7544., 5419.,\n",
       "       2149., 3353., 2141., 3344., 7234., 3412., 2656., 1114., 7121.,\n",
       "       3413., 4211., 1120., 3514., 5321., 3314., 4223., 7232., 4224.,\n",
       "       8344., 5242., 8152., 3258., 2635., 1213., 7127., 5244., 3511.,\n",
       "       3421., 4225., 2432., 4415., 9312., 3352., 1212., 4222., 4411.,\n",
       "       8181.,  511., 2641., 2522., 7311., 5132., 3359., 7316., 4132.,\n",
       "       3312., 2352., 5151., 3152., 4323., 3132., 3324., 3211., 7514.,\n",
       "       4419., 3111., 3118., 7535., 9624., 7221., 5411., 3240., 2265.,\n",
       "       2651., 7322., 7222., 5113.,  110., 3116., 4131., 3139., 3230.,\n",
       "       3135., 2144., 2145., 2113., 2519., 5152., 2514., 9121., 9623.,\n",
       "       8183., 8154., 1439., 2143., 2513., 8122., 2355., 5161., 3512.,\n",
       "       2434., 2433., 3331., 3117., 3259., 2163., 8142., 4214., 3143.,\n",
       "       3321., 1222., 8211., 5111., 3141., 7323., 3154., 4322., 7111.,\n",
       "       9129., 3153., 2632., 2133., 8114., 1323., 7312., 1341., 3131.,\n",
       "       2424., 9331., 7224., 4313., 3435., 7521., 7315., 4414., 8311.,\n",
       "       7321., 2643., 1431., 8157., 7515., 2655., 4416., 6130., 8111.,\n",
       "       9216., 7114., 7532., 8112., 2412., 8132., 5169., 1322., 9332.,\n",
       "       7516., 3133., 2521., 2356., 8121., 3155., 8131., 6224., 7549.,\n",
       "       2120., 1312., 3333., 8156., 2529., 7211., 1343., 8143., 8159.,\n",
       "       4413., 2114., 5241., 8151.,    0., 6129., 1223., 2612., 8171.,\n",
       "       9622., 2653., 9123., 3222., 2263., 2267., 7541., 2523., 3252.,\n",
       "       5168., 3315., 2422., 2230., 9613., 8155., 2165., 5162., 2162.,\n",
       "       3134., 2153., 2146., 8312., 2164., 3433., 7542., 3254., 2659.,\n",
       "       2633., 2621., 2111., 3151., 2240., 7133.])"
      ]
     },
     "execution_count": 48,
     "metadata": {},
     "output_type": "execute_result"
    }
   ],
   "source": [
    "ocupacaocargo_unicas = df_projeto3['Ocupação/Cargo'].unique()\n",
    "ocupacaocargo_unicas"
   ]
  },
  {
   "cell_type": "code",
   "execution_count": 49,
   "id": "05350bd4-aa73-4456-b440-22e8e8e6eea8",
   "metadata": {},
   "outputs": [
    {
     "data": {
      "text/plain": [
       "array([  nan, 3257., 6121., 6111., 7422., 2221., 9111., 2341., 8322.,\n",
       "       6221., 9212., 2330., 5142., 9112., 5243., 7512., 5211., 9216.,\n",
       "       2262., 7112., 3221., 7115., 5414., 8332., 5221., 2652., 9214.,\n",
       "       2351., 7212., 4227., 9211., 2611., 3512., 4110., 1213., 2634.,\n",
       "       9215., 7221., 7131., 9333., 2310., 5311., 3431., 6225., 7319.,\n",
       "       2144., 8172., 2266., 5230., 9629., 5223., 8321., 2166., 5120.,\n",
       "       7231., 2211., 2264., 9334., 1111., 8350., 4312., 5132., 5212.,\n",
       "       5249., 3212., 5411., 6210., 7522., 3521., 4223., 2342., 9313.,\n",
       "       1323., 1221., 5141., 2131., 2320., 7531., 2421., 2359., 3423.,\n",
       "       6112., 2212., 2142., 1311., 3332., 5244., 2433., 9329., 5312.,\n",
       "       2356., 3412., 2635., 6122., 5113., 7234., 9311., 7317., 7119.,\n",
       "       8160., 6123., 1439., 8331., 7322., 9520., 1212., 5131., 9121.,\n",
       "       7233., 2261., 2642., 5245., 9122., 3343., 2511., 3255., 1411.,\n",
       "       1112., 4313., 9412., 7318., 8141., 3251., 1345., 4321., 1120.,\n",
       "       7513., 9411., 2411., 5153., 4226., 5169., 3322., 1431., 4229.,\n",
       "       7213., 1219., 2265., 2161., 5246., 3435., 9612., 4225., 2354.,\n",
       "       3323., 1420., 3511., 7132., 7412., 7411., 3142., 3258., 1346.,\n",
       "       5165., 3112., 3321., 1412., 2250., 7223., 3211., 2133., 2656.,\n",
       "       2352., 3115., 3253., 8219., 3411., 1114., 3114., 5413., 7511.,\n",
       "       8341., 5329., 5322., 3422., 2423., 4222., 7127., 3113., 3313.,\n",
       "       7222., 7126., 2514., 4214., 3214., 7314., 9623., 3230., 7533.,\n",
       "       5222., 9321., 5161., 2431., 4120., 2353., 3252., 2643., 2152.,\n",
       "       3334., 2651., 8153., 3259., 3311., 3513., 1342., 2641., 1321.,\n",
       "       2355.,  412., 2619., 3213., 7421., 9510., 3341., 4212., 5152.,\n",
       "       3434., 7514., 3421., 9611., 3432., 9129., 3339., 9332., 4132.,\n",
       "       2143., 5412., 3111., 4411., 3240., 2424., 3256., 7125., 7121.,\n",
       "       3312., 5164., 3118., 2636., 2434., 3342., 2512., 2622., 1322.,\n",
       "       7122., 4311., 7111., 5241., 7113., 2151., 5242., 3354., 7516.,\n",
       "       5321., 2269., 5419., 2659., 3119., 1349., 4224., 9331., 2413.,\n",
       "       7536., 2230.,    0., 2655., 2113., 2654., 7232., 7321., 3355.,\n",
       "       2149.,  511., 2432., 2522., 4415., 7313., 2632., 8182., 2412.,\n",
       "       3122., 1324., 8343., 3141., 7312., 1223., 4322., 7123., 1211.,\n",
       "       8211., 4221., 7544., 3514., 6129., 2132., 2633., 1344.,  411.,\n",
       "       4323., 9213., 3153., 8212., 7549.])"
      ]
     },
     "execution_count": 49,
     "metadata": {},
     "output_type": "execute_result"
    }
   ],
   "source": [
    "ocupacaocargoalternativo_unicas = df_projeto3['Ocupação/Cargo alternativo'].unique()\n",
    "ocupacaocargoalternativo_unicas"
   ]
  },
  {
   "cell_type": "code",
   "execution_count": 50,
   "id": "40e0d4ee-09aa-43c7-b7c5-dc9a951724af",
   "metadata": {},
   "outputs": [
    {
     "data": {
      "text/plain": [
       "array(['Ocupado', nan, 'Desocupado'], dtype=object)"
      ]
     },
     "execution_count": 50,
     "metadata": {},
     "output_type": "execute_result"
    }
   ],
   "source": [
    "condicaoocupacao_unicas = df_projeto3['Condição de ocupação'].unique()\n",
    "condicaoocupacao_unicas"
   ]
  },
  {
   "cell_type": "code",
   "execution_count": 51,
   "id": "3197a2fa-289b-438e-bd9a-7659ed7172b9",
   "metadata": {},
   "outputs": [
    {
     "data": {
      "text/plain": [
       "array([ 3., nan,  1.,  2.,  4.])"
      ]
     },
     "execution_count": 51,
     "metadata": {},
     "output_type": "execute_result"
    }
   ],
   "source": [
    "posicaonotrabalhoprincial_unicas = df_projeto3['Posição no trabalho principal'].unique()\n",
    "posicaonotrabalhoprincial_unicas"
   ]
  },
  {
   "cell_type": "code",
   "execution_count": 52,
   "id": "b629d96c-4897-4bdd-87c9-6e8f06403b15",
   "metadata": {},
   "outputs": [
    {
     "data": {
      "text/plain": [
       "array([ 5., nan,  3.,  1.,  2.,  4.,  6.])"
      ]
     },
     "execution_count": 52,
     "metadata": {},
     "output_type": "execute_result"
    }
   ],
   "source": [
    "posicaonotrabalhoalternativo_unicas = df_projeto3['Posição no trabalho principal alternativa'].unique()\n",
    "posicaonotrabalhoalternativo_unicas"
   ]
  },
  {
   "cell_type": "code",
   "execution_count": 53,
   "id": "ce34c196-5e76-4a5a-93e4-c8f5152e3218",
   "metadata": {},
   "outputs": [
    {
     "data": {
      "text/plain": [
       "array([ 9., nan,  7.,  1.,  4.,  8.,  2.,  6.,  5.,  3., 10.])"
      ]
     },
     "execution_count": 53,
     "metadata": {},
     "output_type": "execute_result"
    }
   ],
   "source": [
    "categoriaemprego_unicas = df_projeto3['Categoria do emprego'].unique()\n",
    "categoriaemprego_unicas"
   ]
  },
  {
   "cell_type": "code",
   "execution_count": 54,
   "id": "7c81a3db-881a-4554-8869-f4740bf7187d",
   "metadata": {},
   "outputs": [
    {
     "data": {
      "text/plain": [
       "array([ 5000.,    nan,  3500., ..., 18700., 10550., 16963.])"
      ]
     },
     "execution_count": 54,
     "metadata": {},
     "output_type": "execute_result"
    }
   ],
   "source": [
    "rendimento_unicas = df_projeto3['Rendimento'].unique()\n",
    "rendimento_unicas"
   ]
  },
  {
   "cell_type": "markdown",
   "id": "388f0668-c497-48b7-9c9d-59e3a37696db",
   "metadata": {},
   "source": [
    "# Removendo as colunas que não serão necessarias"
   ]
  },
  {
   "cell_type": "code",
   "execution_count": 56,
   "id": "01a3b0fe-e902-4aec-aa48-0da193b995d6",
   "metadata": {},
   "outputs": [],
   "source": [
    "df_projeto3 = df_projeto3.drop(columns=[\n",
    "    'Ano', \n",
    "    'Trimestre', \n",
    "    'Ocupação/Cargo alternativo',\n",
    "    'Tipo de dispositivo',\n",
    "    'Posição no trabalho principal', \n",
    "    'Posição no trabalho principal alternativa'\n",
    "])"
   ]
  },
  {
   "cell_type": "code",
   "execution_count": 57,
   "id": "161c07f6-fdf5-43a4-9d71-bc90a3c3ba4f",
   "metadata": {},
   "outputs": [
    {
     "data": {
      "text/plain": [
       "pandas.core.frame.DataFrame"
      ]
     },
     "execution_count": 57,
     "metadata": {},
     "output_type": "execute_result"
    }
   ],
   "source": [
    "type(df_projeto3)"
   ]
  },
  {
   "cell_type": "markdown",
   "id": "d6968915-80c1-4287-9ca1-4252bd5e430b",
   "metadata": {},
   "source": [
    "# Renomeando os valores das colunas qualitativas"
   ]
  },
  {
   "cell_type": "code",
   "execution_count": 60,
   "id": "e8946fce-29df-4e51-a120-66aaf1d5bbc8",
   "metadata": {},
   "outputs": [
    {
     "ename": "TypeError",
     "evalue": "'<=' not supported between instances of 'int' and 'str'",
     "output_type": "error",
     "traceback": [
      "\u001b[1;31m---------------------------------------------------------------------------\u001b[0m",
      "\u001b[1;31mTypeError\u001b[0m                                 Traceback (most recent call last)",
      "Cell \u001b[1;32mIn[60], line 44\u001b[0m\n\u001b[0;32m     42\u001b[0m     \u001b[38;5;28;01melse\u001b[39;00m:\n\u001b[0;32m     43\u001b[0m         \u001b[38;5;28;01mreturn\u001b[39;00m \u001b[38;5;124m'\u001b[39m\u001b[38;5;124mCategoria desconhecida\u001b[39m\u001b[38;5;124m'\u001b[39m\n\u001b[1;32m---> 44\u001b[0m df_projeto3[\u001b[38;5;124m'\u001b[39m\u001b[38;5;124mOcupação/Cargo\u001b[39m\u001b[38;5;124m'\u001b[39m] \u001b[38;5;241m=\u001b[39m df_projeto3[\u001b[38;5;124m'\u001b[39m\u001b[38;5;124mOcupação/Cargo\u001b[39m\u001b[38;5;124m'\u001b[39m]\u001b[38;5;241m.\u001b[39mapply(map_ocupacao)\n\u001b[0;32m     46\u001b[0m \u001b[38;5;66;03m# Convertendo e renomeando a coluna 'Condição de ocupação'\u001b[39;00m\n\u001b[0;32m     47\u001b[0m df_projeto3[\u001b[38;5;124m'\u001b[39m\u001b[38;5;124mCondição de ocupação\u001b[39m\u001b[38;5;124m'\u001b[39m] \u001b[38;5;241m=\u001b[39m df_projeto3[\u001b[38;5;124m'\u001b[39m\u001b[38;5;124mCondição de ocupação\u001b[39m\u001b[38;5;124m'\u001b[39m]\u001b[38;5;241m.\u001b[39mastype(\u001b[38;5;124m'\u001b[39m\u001b[38;5;124mcategory\u001b[39m\u001b[38;5;124m'\u001b[39m)\n",
      "File \u001b[1;32m~\\anaconda3\\Lib\\site-packages\\pandas\\core\\series.py:4630\u001b[0m, in \u001b[0;36mSeries.apply\u001b[1;34m(self, func, convert_dtype, args, **kwargs)\u001b[0m\n\u001b[0;32m   4520\u001b[0m \u001b[38;5;28;01mdef\u001b[39;00m \u001b[38;5;21mapply\u001b[39m(\n\u001b[0;32m   4521\u001b[0m     \u001b[38;5;28mself\u001b[39m,\n\u001b[0;32m   4522\u001b[0m     func: AggFuncType,\n\u001b[1;32m   (...)\u001b[0m\n\u001b[0;32m   4525\u001b[0m     \u001b[38;5;241m*\u001b[39m\u001b[38;5;241m*\u001b[39mkwargs,\n\u001b[0;32m   4526\u001b[0m ) \u001b[38;5;241m-\u001b[39m\u001b[38;5;241m>\u001b[39m DataFrame \u001b[38;5;241m|\u001b[39m Series:\n\u001b[0;32m   4527\u001b[0m \u001b[38;5;250m    \u001b[39m\u001b[38;5;124;03m\"\"\"\u001b[39;00m\n\u001b[0;32m   4528\u001b[0m \u001b[38;5;124;03m    Invoke function on values of Series.\u001b[39;00m\n\u001b[0;32m   4529\u001b[0m \n\u001b[1;32m   (...)\u001b[0m\n\u001b[0;32m   4628\u001b[0m \u001b[38;5;124;03m    dtype: float64\u001b[39;00m\n\u001b[0;32m   4629\u001b[0m \u001b[38;5;124;03m    \"\"\"\u001b[39;00m\n\u001b[1;32m-> 4630\u001b[0m     \u001b[38;5;28;01mreturn\u001b[39;00m SeriesApply(\u001b[38;5;28mself\u001b[39m, func, convert_dtype, args, kwargs)\u001b[38;5;241m.\u001b[39mapply()\n",
      "File \u001b[1;32m~\\anaconda3\\Lib\\site-packages\\pandas\\core\\apply.py:1025\u001b[0m, in \u001b[0;36mSeriesApply.apply\u001b[1;34m(self)\u001b[0m\n\u001b[0;32m   1022\u001b[0m     \u001b[38;5;28;01mreturn\u001b[39;00m \u001b[38;5;28mself\u001b[39m\u001b[38;5;241m.\u001b[39mapply_str()\n\u001b[0;32m   1024\u001b[0m \u001b[38;5;66;03m# self.f is Callable\u001b[39;00m\n\u001b[1;32m-> 1025\u001b[0m \u001b[38;5;28;01mreturn\u001b[39;00m \u001b[38;5;28mself\u001b[39m\u001b[38;5;241m.\u001b[39mapply_standard()\n",
      "File \u001b[1;32m~\\anaconda3\\Lib\\site-packages\\pandas\\core\\apply.py:1076\u001b[0m, in \u001b[0;36mSeriesApply.apply_standard\u001b[1;34m(self)\u001b[0m\n\u001b[0;32m   1074\u001b[0m     \u001b[38;5;28;01melse\u001b[39;00m:\n\u001b[0;32m   1075\u001b[0m         values \u001b[38;5;241m=\u001b[39m obj\u001b[38;5;241m.\u001b[39mastype(\u001b[38;5;28mobject\u001b[39m)\u001b[38;5;241m.\u001b[39m_values\n\u001b[1;32m-> 1076\u001b[0m         mapped \u001b[38;5;241m=\u001b[39m lib\u001b[38;5;241m.\u001b[39mmap_infer(\n\u001b[0;32m   1077\u001b[0m             values,\n\u001b[0;32m   1078\u001b[0m             f,\n\u001b[0;32m   1079\u001b[0m             convert\u001b[38;5;241m=\u001b[39m\u001b[38;5;28mself\u001b[39m\u001b[38;5;241m.\u001b[39mconvert_dtype,\n\u001b[0;32m   1080\u001b[0m         )\n\u001b[0;32m   1082\u001b[0m \u001b[38;5;28;01mif\u001b[39;00m \u001b[38;5;28mlen\u001b[39m(mapped) \u001b[38;5;129;01mand\u001b[39;00m \u001b[38;5;28misinstance\u001b[39m(mapped[\u001b[38;5;241m0\u001b[39m], ABCSeries):\n\u001b[0;32m   1083\u001b[0m     \u001b[38;5;66;03m# GH#43986 Need to do list(mapped) in order to get treated as nested\u001b[39;00m\n\u001b[0;32m   1084\u001b[0m     \u001b[38;5;66;03m#  See also GH#25959 regarding EA support\u001b[39;00m\n\u001b[0;32m   1085\u001b[0m     \u001b[38;5;28;01mreturn\u001b[39;00m obj\u001b[38;5;241m.\u001b[39m_constructor_expanddim(\u001b[38;5;28mlist\u001b[39m(mapped), index\u001b[38;5;241m=\u001b[39mobj\u001b[38;5;241m.\u001b[39mindex)\n",
      "File \u001b[1;32m~\\anaconda3\\Lib\\site-packages\\pandas\\_libs\\lib.pyx:2834\u001b[0m, in \u001b[0;36mpandas._libs.lib.map_infer\u001b[1;34m()\u001b[0m\n",
      "Cell \u001b[1;32mIn[60], line 22\u001b[0m, in \u001b[0;36mmap_ocupacao\u001b[1;34m(valor)\u001b[0m\n\u001b[0;32m     21\u001b[0m \u001b[38;5;28;01mdef\u001b[39;00m \u001b[38;5;21mmap_ocupacao\u001b[39m(valor):\n\u001b[1;32m---> 22\u001b[0m     \u001b[38;5;28;01mif\u001b[39;00m \u001b[38;5;241m1111\u001b[39m \u001b[38;5;241m<\u001b[39m\u001b[38;5;241m=\u001b[39m valor \u001b[38;5;241m<\u001b[39m\u001b[38;5;241m=\u001b[39m \u001b[38;5;241m1439\u001b[39m:\n\u001b[0;32m     23\u001b[0m         \u001b[38;5;28;01mreturn\u001b[39;00m \u001b[38;5;124m'\u001b[39m\u001b[38;5;124mDiretores e gerentes\u001b[39m\u001b[38;5;124m'\u001b[39m\n\u001b[0;32m     24\u001b[0m     \u001b[38;5;28;01melif\u001b[39;00m \u001b[38;5;241m2111\u001b[39m \u001b[38;5;241m<\u001b[39m\u001b[38;5;241m=\u001b[39m valor \u001b[38;5;241m<\u001b[39m\u001b[38;5;241m=\u001b[39m \u001b[38;5;241m2659\u001b[39m:\n",
      "\u001b[1;31mTypeError\u001b[0m: '<=' not supported between instances of 'int' and 'str'"
     ]
    }
   ],
   "source": [
    "df_projeto3['Estado'] = df_projeto3['Estado'].astype('category')\n",
    "df_projeto3['Estado'] = df_projeto3.Estado.cat.rename_categories({11: 'Rondônia', 12: 'Acre', 13: 'Amazonas', 14:'Roraima', 15:'Pará', 16:'Amapá', 17:'Tocantins', 21:'Maranhão', 22:'Piauí',\n",
    "                                              23: 'Ceará', 24: 'Rio Grande do Norte', 25:'Paraíba', 26:'Pernambuco', 27:'Alagoas', 28:'Sergipe', 29:'Bahia', 31:'Minas Gerais',\n",
    "                                              32: 'Espírito Santo', 33: 'Rio de Janeiro', 35: 'São Paulo', 41:'Paraná', 42:'Santa Catarina', 43:'Rio Grande do Sul', 50:'Mato Grosso do Sul',\n",
    "                                              51:'Mato Grosso', 52:'Goiás', 53:'Distrito Federal'})\n",
    "\n",
    "# df_projeto3['Ocupação/Cargo'] = df_projeto3['Ocupação/Cargo'].astype('category')\n",
    "# df_projeto3['Ocupação/Cargo'] = df_projeto3['Ocupação/Cargo'].cat.rename_categories({\n",
    "#     range(1111, 1440): 'Diretores e gerentes',\n",
    "#     range(2111, 2660): 'Profissionais das ciências e intelectuais',\n",
    "#     range(3111, 3523): 'Técnicos e profissionais de nível médio',\n",
    "#     range(4110, 4420): 'Trabalhadores de apoio administrativo',\n",
    "#     range(5111, 5420): 'Trabalhadores dos serviços, vendedores dos comércios e mercados',\n",
    "#     range(6111, 6226): 'Trabalhadores qualificados da agropecuária, florestais, da caça e da pesca',\n",
    "#     range(7111, 7550): 'Trabalhadores qualificados, operários e artesões da construção, das artes mecânicas e outros ofícios',\n",
    "#     range(8111, 8351): 'Operadores de instalações e máquinas e montadores',\n",
    "#     range(9111, 9630): 'Ocupações elementares',\n",
    "#     range(110, 513): 'Membros das forças armadas, policiais e bombeiros militares'\n",
    "# })\n",
    "\n",
    "def map_ocupacao(valor):\n",
    "    if 1111 <= valor <= 1439:\n",
    "        return 'Diretores e gerentes'\n",
    "    elif 2111 <= valor <= 2659:\n",
    "        return 'Profissionais das ciências e intelectuais'\n",
    "    elif 3111 <= valor <= 3522:\n",
    "        return 'Técnicos e profissionais de nível médio'\n",
    "    elif 4110 <= valor <= 4419:\n",
    "        return 'Trabalhadores de apoio administrativo'\n",
    "    elif 5111 <= valor <= 5419:\n",
    "        return 'Trabalhadores dos serviços, vendedores dos comércios e mercados'\n",
    "    elif 6111 <= valor <= 6225:\n",
    "        return 'Trabalhadores qualificados da agropecuária, florestais, da caça e da pesca'\n",
    "    elif 7111 <= valor <= 7549:\n",
    "        return 'Trabalhadores qualificados, operários e artesões da construção, das artes mecânicas e outros ofícios'\n",
    "    elif 8111 <= valor <= 8350:\n",
    "        return 'Operadores de instalações e máquinas e montadores'\n",
    "    elif 9111 <= valor <= 9629:\n",
    "        return 'Ocupações elementares'\n",
    "    elif 110 <= valor <= 512:\n",
    "        return 'Membros das forças armadas, policiais e bombeiros militares'\n",
    "    else:\n",
    "        return 'Categoria desconhecida'\n",
    "df_projeto3['Ocupação/Cargo'] = df_projeto3['Ocupação/Cargo'].apply(map_ocupacao)\n",
    "\n",
    "# Convertendo e renomeando a coluna 'Condição de ocupação'\n",
    "df_projeto3['Condição de ocupação'] = df_projeto3['Condição de ocupação'].astype('category')\n",
    "df_projeto3['Condição de ocupação'] = df_projeto3['Condição de ocupação'].cat.rename_categories({\n",
    "    1: 'Ocupado',\n",
    "    2: 'Desocupado'\n",
    "})\n",
    "\n",
    "# Convertendo e renomeando a coluna 'Acesso a internet'\n",
    "df_projeto3['Acesso à internet'] = df_projeto3['Acesso à internet'].astype('category')\n",
    "df_projeto3['Acesso à internet'] = df_projeto3['Acesso à internet'].cat.rename_categories({\n",
    "    1: 'Sim',\n",
    "    2: 'Não'\n",
    "})\n",
    "\n",
    "# Convertendo e renomeando a coluna 'Categoria do emprego'\n",
    "df_projeto3['Categoria do emprego'] = df_projeto3['Categoria do emprego'].astype('category')\n",
    "df_projeto3['Categoria do emprego'] = df_projeto3['Categoria do emprego'].cat.rename_categories({\n",
    "    1: 'Empregado no setor privado com carteira de trabalho assinada',\n",
    "    2: 'Empregado no setor privado sem carteira de trabalho assinada',\n",
    "    3: 'Trabalhador doméstico com carteira de trabalho assinada',\n",
    "    4: 'Trabalhador doméstico sem carteira de trabalho assinada',\n",
    "    5: 'Empregado no setor público com carteira de trabalho assinada',\n",
    "    6: 'Empregado no setor público sem carteira de trabalho assinada',\n",
    "    7: 'Militar e servidor estatutário',\n",
    "    8: 'Empregador',\n",
    "    9: 'Conta-própria',\n",
    "    10: 'Trabalhador familiar auxiliar'\n",
    "})\n"
   ]
  },
  {
   "cell_type": "code",
   "execution_count": null,
   "id": "b9b09233-d17c-4901-955a-338457a4f286",
   "metadata": {},
   "outputs": [],
   "source": [
    "df_projeto3"
   ]
  },
  {
   "cell_type": "markdown",
   "id": "61e9bede-3e2c-4111-b47c-73c247e54e82",
   "metadata": {},
   "source": [
    "# Tabelas e Gráficos"
   ]
  },
  {
   "cell_type": "code",
   "execution_count": null,
   "id": "fd41e91c-f267-45e1-8649-d730e7323428",
   "metadata": {},
   "outputs": [],
   "source": [
    "df_projeto3 = df_projeto3.dropna(subset=['Acesso à Internet', 'Rendimento', 'Condição de ocupação', 'Tipo de área']) # Retira o NAN\n",
    "\n",
    "# Análise 1: Tabela Cruzada - Acesso à Internet por Tipo de Área\n",
    "tabela_cruzada = pd.crosstab(df_projeto3['Tipo de área'], df_projeto3['Acesso à Internet'], normalize='index')\n",
    "print(\"\\nTabela Cruzada - Acesso à Internet por Tipo de Área:\\n\", tabela_cruzada)\n",
    "\n",
    "# Gráfico de barras empilhado\n",
    "tabela_cruzada.plot (kind='bar', stacked=True, colormap='viridis')\n",
    "plt.title(\"Acesso à Internet por Tipo de Área\")\n",
    "plt.ylabel(\"Proporção\")\n",
    "plt.xlabel(\"Tipo de Área\")\n",
    "plt.legend([\"Sem acesso\", \"Com acesso\"])\n",
    "plt.title(\"Acesso à Internet\")\n",
    "plt.show()\n",
    "\n",
    "# Análise 2: Boxplot - Rendimento por Acesso à Internet \n",
    "plt.figure(figsize=(10, 6))\n",
    "sns.boxplot(data=df_projeto3, x='Acesso à Internet', y='Rendimento', hue='Tipo de área')\n",
    "plt.title(\"Rendimento por Acesso à Internet e Tipo de Área\")\n",
    "plt.xlabel(\"Acesso à Internet\")\n",
    "plt.ylabel(\"Rendimento\")\n",
    "plt.legend(title=\"Tipo de Área\")\n",
    "plt.show()\n",
    "\n",
    "# Análise 3: Histograma - Rendimento por Condição de Ocupação\n",
    "plt.figure(figsize=(10, 6))\n",
    "sns.histplot(data=df_projeto3, x='Rendimento', hue='Condição de ocupação', bins=50)\n",
    "plt.title(\"Distribuição do Rendimento por Condição de Ocupação\")\n",
    "plt.xlim(0, 20000)\n",
    "plt.xlabel(\"Rendimento\")\n",
    "plt.ylabel(\"Frequência\")\n",
    "plt.show()\n",
    "\n",
    "# Análise 4: Gráfico de dispersão - Rendimento vs Idade (com Acesso à Internet)\n",
    "df_internet = df_projeto3[df_projeto3['Acesso à Internet'] == 1.0]\n",
    "plt.figure(figsize=(10, 6))\n",
    "plt.scatter(df_internet['Idade'], df_internet['Rendimento'], alpha=0.5)\n",
    "plt.title(\"Rendimento vs Idade (Com Acesso à Internet)\")\n",
    "plt.xlabel(\"Idade\")\n",
    "plt.ylabel(\"Rendimento\")\n",
    "plt.grid(True)\n",
    "plt.show()"
   ]
  },
  {
   "cell_type": "markdown",
   "id": "27477d05-23b9-44df-a38d-b68b9425ab27",
   "metadata": {},
   "source": [
    "\n",
    "## Acesso à Internet nas Áreas Urbana e Rural\n",
    "O primeiro gráfico ilustra que, nas áreas rurais, há uma proporção um pouco maior de pessoas sem acesso à internet em comparação com as áreas urbanas. Essa lacuna de acesso reflete uma barreira inicial: os residentes em áreas rurais enfrentam desafios para participar de atividades digitais que podem melhorar suas perspectivas de emprego e rendimento, especialmente em cenários onde o trabalho remoto está se tornando mais comum.\n",
    "\n",
    "## Relação entre Rendimento e Acesso à Internet\n",
    "O segundo gráfico mostra o rendimento por acesso à internet e tipo de área. Podemos observar que as pessoas com acesso à internet, tanto em áreas rurais quanto urbanas, tendem a apresentar maior potencial de rendimento. No entanto, o rendimento médio parece ser visivelmente menor nas áreas rurais, o que sugere que o acesso à internet, embora essencial, não é suficiente para igualar as oportunidades econômicas entre regiões urbanas e rurais. A falta de infraestrutura e suporte pode ser outro fator que limita os ganhos nas áreas rurais.\n",
    "\n",
    "## Distribuição de Rendimento por Condição de Ocupação\n",
    "A distribuição de rendimentos entre pessoas ocupadas indica uma grande concentração de indivíduos com rendimentos mais baixos, mas com uma minoria significativa que alcança rendas elevadas. Isso pode indicar a existência de uma divisão entre ocupações que permitem altos rendimentos, como as associadas a trabalho remoto e tecnologia, e outras atividades mais limitadas em termos de remuneração, mais comuns em áreas rurais.\n",
    "\n",
    "## Rendimento vs. Idade (Com Acesso à Internet)\n",
    "O último gráfico relaciona rendimento e idade entre os que possuem acesso à internet. Nota-se uma concentração de rendimentos medianos na faixa de 25 a 55 anos, quando a maioria das pessoas está em idade ativa de trabalho. Esse padrão indica que o acesso à internet é essencial em idades economicamente produtivas, mas também aponta que mesmo entre aqueles com acesso, há uma dispersão nos rendimentos, sugerindo a importância de habilidades digitais e qualificação, além do simples acesso.\n",
    "\n",
    "## Conclusão\n",
    "Os gráficos sugerem que o acesso à internet, especialmente em áreas rurais, pode ser um divisor de águas para a participação em atividades econômicas mais remuneradas, como o trabalho remoto. No entanto, a infraestrutura digital, por si só, não é suficiente para eliminar as disparidades de renda. São necessários investimentos adicionais em educação digital e infraestrutura para equipar os residentes rurais com as habilidades necessárias para competir em um mercado de trabalho cada vez mais global e digital.\n"
   ]
  },
  {
   "cell_type": "markdown",
   "id": "a59f889d-8d26-486a-9181-345f4298282b",
   "metadata": {},
   "source": [
    "# Método Random Forest"
   ]
  },
  {
   "cell_type": "code",
   "execution_count": null,
   "id": "5c54dffe-5bb0-4060-b53b-995bda88b958",
   "metadata": {},
   "outputs": [],
   "source": [
    "import pandas as pd\n",
    "from sklearn.model_selection import train_test_split\n",
    "from sklearn.ensemble import RandomForestClassifier\n",
    "from sklearn.preprocessing import OneHotEncoder\n",
    "from sklearn.compose import ColumnTransformer\n",
    "from sklearn.impute import SimpleImputer\n",
    "from sklearn.pipeline import Pipeline\n",
    "from sklearn.metrics import accuracy_score, classification_report\n",
    "\n",
    "\n",
    "df_projeto3 = df_projeto3.dropna(subset=['Acesso à Internet']) \n",
    "\n",
    "\n",
    "X = df_projeto3.drop(columns=['Acesso à Internet'])\n",
    "y = df_projeto3['Acesso à Internet']\n",
    "\n",
    "\n",
    "X_train, X_test, y_train, y_test = train_test_split(X, y, test_size=0.3, random_state=42)\n",
    "\n",
    "categorical_columns = X.select_dtypes(include=['object']).columns\n",
    "numerical_columns = X.select_dtypes(include=['int64', 'float64']).columns\n",
    "\n",
    "\n",
    "preprocessor = ColumnTransformer(transformers=[\n",
    "    ('num', SimpleImputer(strategy='mean'), numerical_columns),\n",
    "    ('cat', OneHotEncoder(handle_unknown='ignore'), categorical_columns)\n",
    "])\n",
    "\n",
    "\n",
    "rf_pipeline = Pipeline(steps=[\n",
    "    ('preprocessor', preprocessor),\n",
    "    ('classifier', RandomForestClassifier(n_estimators=100, random_state=42, n_jobs=-1))\n",
    "])\n",
    "\n",
    "\n",
    "rf_pipeline.fit(X_train, y_train)\n",
    "\n",
    "\n",
    "y_pred = rf_pipeline.predict(X_test)\n",
    "\n",
    "\n",
    "print(\"Acurácia:\", accuracy_score(y_test, y_pred))\n",
    "print(\"\\nRelatório de Classificação:\\n\", classification_report(y_test, y_pred))\n"
   ]
  },
  {
   "cell_type": "markdown",
   "id": "0a0f812d-e45d-4d9c-b51e-1f6e85fd0b92",
   "metadata": {},
   "source": [
    "# Gráfico de Curva ROC"
   ]
  },
  {
   "cell_type": "code",
   "execution_count": null,
   "id": "ea21a020-ae61-4645-b351-a262c2fd0f92",
   "metadata": {},
   "outputs": [],
   "source": [
    "from sklearn.metrics import roc_curve, auc\n",
    "import matplotlib.pyplot as plt\n",
    "\n",
    "\n",
    "if set(y_test.unique()) != {0, 1}:\n",
    "    \n",
    "    y_test_binario = y_test.map({1.0: 0, 2.0: 1})  \n",
    "else:\n",
    "    y_test_binario = y_test \n",
    "\n",
    "\n",
    "probs_previstos = rf_pipeline.predict_proba(X_test)[:, 1]\n",
    "\n",
    "\n",
    "falsos_positivos, verdadeiros_positivos, limiares = roc_curve(y_test_binario, probs_previstos)\n",
    "\n",
    "\n",
    "area_sob_curva = auc(falsos_positivos, verdadeiros_positivos)\n",
    "\n",
    "\n",
    "plt.figure(figsize=(8, 6))\n",
    "plt.plot(\n",
    "    falsos_positivos, verdadeiros_positivos, \n",
    "    label=f'Curva ROC (AUC = {area_sob_curva:.2f})', \n",
    "    color='blue', linewidth=2\n",
    ")\n",
    "plt.plot([0, 1], [0, 1], 'k--', label='Modelo Aleatório', linewidth=1)  \n",
    "plt.title('Curva ROC - Classificador Random Forest', fontsize=14)\n",
    "plt.xlabel('Taxa de Falsos Positivos (FPR)', fontsize=12)\n",
    "plt.ylabel('Taxa de Verdadeiros Positivos (TPR)', fontsize=12)\n",
    "plt.legend(loc='lower right', fontsize=10)\n",
    "plt.grid(alpha=0.3)\n",
    "plt.show()\n"
   ]
  },
  {
   "cell_type": "code",
   "execution_count": null,
   "id": "b03cac6f-df2a-4711-b45e-26e8fe7c66d3",
   "metadata": {},
   "outputs": [],
   "source": []
  }
 ],
 "metadata": {
  "kernelspec": {
   "display_name": "Python 3 (ipykernel)",
   "language": "python",
   "name": "python3"
  },
  "language_info": {
   "codemirror_mode": {
    "name": "ipython",
    "version": 3
   },
   "file_extension": ".py",
   "mimetype": "text/x-python",
   "name": "python",
   "nbconvert_exporter": "python",
   "pygments_lexer": "ipython3",
   "version": "3.11.5"
  }
 },
 "nbformat": 4,
 "nbformat_minor": 5
}
